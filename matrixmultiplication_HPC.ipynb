{
  "cells": [
    {
      "cell_type": "code",
      "execution_count": null,
      "metadata": {
        "colab": {
          "base_uri": "https://localhost:8080/"
        },
        "id": "VW2-kXVLhswi",
        "outputId": "3a4841b7-a2c8-43d1-d614-fc9a10c7645c"
      },
      "outputs": [
        {
          "name": "stdout",
          "output_type": "stream",
          "text": [
            "nvcc: NVIDIA (R) Cuda compiler driver\n",
            "Copyright (c) 2005-2022 NVIDIA Corporation\n",
            "Built on Wed_Sep_21_10:33:58_PDT_2022\n",
            "Cuda compilation tools, release 11.8, V11.8.89\n",
            "Build cuda_11.8.r11.8/compiler.31833905_0\n"
          ]
        }
      ],
      "source": [
        "!nvcc --version\n"
      ]
    },
    {
      "cell_type": "code",
      "execution_count": null,
      "metadata": {
        "colab": {
          "base_uri": "https://localhost:8080/"
        },
        "id": "-NOjggcKhysC",
        "outputId": "3c98710e-1fd1-4584-cd06-52aa58d871b6"
      },
      "outputs": [
        {
          "name": "stdout",
          "output_type": "stream",
          "text": [
            "Looking in indexes: https://pypi.org/simple, https://us-python.pkg.dev/colab-wheels/public/simple/\n",
            "Collecting git+https://github.com/andreinechaev/nvcc4jupyter.git\n",
            "  Cloning https://github.com/andreinechaev/nvcc4jupyter.git to /tmp/pip-req-build-i_86q09z\n",
            "  Running command git clone --filter=blob:none --quiet https://github.com/andreinechaev/nvcc4jupyter.git /tmp/pip-req-build-i_86q09z\n",
            "  Resolved https://github.com/andreinechaev/nvcc4jupyter.git to commit aac710a35f52bb78ab34d2e52517237941399eff\n",
            "  Preparing metadata (setup.py) ... \u001b[?25l\u001b[?25hdone\n",
            "Building wheels for collected packages: NVCCPlugin\n",
            "  Building wheel for NVCCPlugin (setup.py) ... \u001b[?25l\u001b[?25hdone\n",
            "  Created wheel for NVCCPlugin: filename=NVCCPlugin-0.0.2-py3-none-any.whl size=4305 sha256=ddb2114e837ec79c1cedeac39d4e1f4f60f2fc48cee647f7f54166c8d72791a8\n",
            "  Stored in directory: /tmp/pip-ephem-wheel-cache-wbgebwo8/wheels/db/c1/1f/a2bb07bbb4a1ce3c43921252aeafaa6205f08637e292496f04\n",
            "Successfully built NVCCPlugin\n",
            "Installing collected packages: NVCCPlugin\n",
            "Successfully installed NVCCPlugin-0.0.2\n"
          ]
        }
      ],
      "source": [
        "!pip install git+https://github.com/andreinechaev/nvcc4jupyter.git"
      ]
    },
    {
      "cell_type": "code",
      "execution_count": null,
      "metadata": {
        "colab": {
          "base_uri": "https://localhost:8080/"
        },
        "id": "xMzBiW4vhyti",
        "outputId": "3e37d769-af82-4fb7-f641-fd26c8703b4e"
      },
      "outputs": [
        {
          "name": "stdout",
          "output_type": "stream",
          "text": [
            "created output directory at /content/src\n",
            "Out bin /content/result.out\n"
          ]
        }
      ],
      "source": [
        "%load_ext nvcc_plugin"
      ]
    },
    {
      "cell_type": "code",
      "execution_count": null,
      "metadata": {
        "colab": {
          "base_uri": "https://localhost:8080/"
        },
        "id": "q3rmZD2_hyxK",
        "outputId": "b86080d2-65bf-4846-faee-ae4f555c56f2"
      },
      "outputs": [
        {
          "name": "stdout",
          "output_type": "stream",
          "text": [
            "Matrix A : \n",
            "3.000000 17.000000 13.000000 \n",
            "6.000000 9.000000 2.000000 \n",
            "10.000000 3.000000 0.000000 \n",
            "\n",
            "---------------------------------------------------------------------------------\n",
            "Matrix B : \n",
            "6.000000 15.000000 15.000000 \n",
            "12.000000 1.000000 7.000000 \n",
            "19.000000 6.000000 6.000000 \n",
            "\n",
            "---------------------------------------------------------------------------------\n",
            "\n",
            "Matrix result using normal function : \n",
            "469.000000 140.000000 242.000000 \n",
            "182.000000 111.000000 165.000000 \n",
            "96.000000 153.000000 171.000000 \n",
            "\n",
            "-----------------------------------------------------------------------469.000000 140.000000 242.000000 \n",
            "182.000000 111.000000 165.000000 \n",
            "96.000000 153.000000 171.000000 \n",
            "\n",
            " CPU Time: 0.000009 \n",
            "GPU Time: 0.000024 \n",
            "Speed Up: 0.375000 \n",
            "\n"
          ]
        }
      ],
      "source": [
        "%%cu \n",
        "#include <stdio.h>\n",
        "#include <math.h>\n",
        "#include <time.h>\n",
        "#include <iostream>\n",
        "#include \"cuda_runtime.h\"\n",
        "\n",
        "// Define matrix size\n",
        "#define N 3\n",
        "\n",
        "__global__ void matrix_multiply(float *a, float *b, float *c) { \n",
        "    // Calculate thread index\n",
        "    int row = blockIdx.y * blockDim.y + threadIdx.y;\n",
        "    int col = blockIdx.x * blockDim.x + threadIdx.x;\n",
        "\n",
        "    // Calculate the product of two matrices\n",
        "    float sum = 0;\n",
        "    for (int i = 0; i < N; i++) {\n",
        "        sum += a[row * N + i] * b[i * N + col];\n",
        "    }\n",
        "    c[row * N + col] = sum;\n",
        "}\n",
        "\n",
        "void matrixMultiplication(float *a ,float *b ,float *c) {\n",
        " \n",
        "    for (int i = 0; i < N; i++) {\n",
        "        for (int j = 0; j < N; j++) {\n",
        "            float sum = 0;\n",
        "            for (int k = 0; k < N; k++) {\n",
        "                sum += a[i * N+ k] * b[k * N + j];\n",
        "            }\n",
        "            c[i * N + j] = sum;\n",
        "        }\n",
        "    }\n",
        "    \n",
        "       // Print the result matrix\n",
        "        printf(\"\\nMatrix result using normal function : \\n\");\n",
        "    for (int i = 0; i < N; i++) {\n",
        "        for (int j = 0; j < N; j++) {\n",
        "            printf(\"%f \", c[i * N + j]);\n",
        "        }\n",
        "        printf(\"\\n\");\n",
        "    }\n",
        "    printf(\"\\n-----------------------------------------------------------------------\\n\");\n",
        "    \n",
        "}\n",
        "\n",
        "\n",
        "\n",
        "int main() {\n",
        "    float *a, *b, *c,*d;  // Pointers to matrices in host memory\n",
        "    float *dev_a, *dev_b, *dev_c;  // Pointers to matrices in device memory\n",
        "    int size = N * N * sizeof(float);\n",
        "\n",
        "    // Allocate memory for matrices in host memory\n",
        "    a = (float *)malloc(size);\n",
        "    b = (float *)malloc(size);\n",
        "    c = (float *)malloc(size);\n",
        "    d = (float *)malloc(size);\n",
        "\n",
        "    // Initialize matrices with random values\n",
        "    for (int i = 0; i < N * N; i++) {\n",
        "        a[i] = rand() % 20;\n",
        "        b[i] = rand() % 20;\n",
        "    }\n",
        "\n",
        "    // Allocate memory for matrices in device memory\n",
        "    cudaMalloc((void **)&dev_a, size);\n",
        "    cudaMalloc((void **)&dev_b, size);\n",
        "    cudaMalloc((void **)&dev_c, size);\n",
        "\n",
        "    // Copy matrices from host memory to device memory\n",
        "    cudaMemcpy(dev_a, a, size, cudaMemcpyHostToDevice);\n",
        "    cudaMemcpy(dev_b, b, size, cudaMemcpyHostToDevice);\n",
        "\n",
        "    // Define the grid and block dimensions\n",
        "    dim3 dimGrid(N / 3, N / 3);\n",
        "    dim3 dimBlock(3, 3);\n",
        "\n",
        "    // Call the kernel function\n",
        "\n",
        "    clock_t tic, toc;\n",
        "    tic = clock();\n",
        "    matrix_multiply<<<dimGrid, dimBlock>>>(dev_a, dev_b, dev_c);\n",
        "    toc = clock();\n",
        "\n",
        "    float timeTakenGPU = ((float)(toc - tic)) / CLOCKS_PER_SEC;\n",
        "\n",
        "    // Copy the result matrix from device memory to host memory\n",
        "    cudaMemcpy(c, dev_c, size, cudaMemcpyDeviceToHost);\n",
        "\n",
        "       // Print the A matrix\n",
        "       printf(\"Matrix A : \\n\");\n",
        "    for (int i = 0; i < N; i++) {\n",
        "        for (int j = 0; j < N; j++) {\n",
        "            printf(\"%f \", a[i * N + j]);\n",
        "        }\n",
        "        printf(\"\\n\");\n",
        "    }\n",
        "    printf(\"\\n---------------------------------------------------------------------------------\\n\");\n",
        "\n",
        "       // Print the B matrix\n",
        "       printf(\"Matrix B : \\n\");\n",
        "    for (int i = 0; i < N; i++) {\n",
        "        for (int j = 0; j < N; j++) {\n",
        "            printf(\"%f \", b[i * N + j]);\n",
        "        }\n",
        "        printf(\"\\n\");\n",
        "    }\n",
        "      printf(\"\\n---------------------------------------------------------------------------------\\n\");\n",
        "\n",
        "    // normal \n",
        "     // CPU\n",
        "   \n",
        "\n",
        "    tic = clock();\n",
        "    matrixMultiplication(a,b,d);\n",
        "    toc = clock();\n",
        "\n",
        "  float timeTakenCPU =(float) ((toc - tic)) / CLOCKS_PER_SEC;\n",
        "    \n",
        "  \n",
        "    // Print the result matrix parallel\n",
        "     //  printf(\"\\nMatrix Result using cuda : \\n\");\n",
        "    for (int i = 0; i < N; i++) {\n",
        "        for (int j = 0; j < N; j++) {\n",
        "            printf(\"%f \", c[i * N + j]);\n",
        "        }\n",
        "        printf(\"\\n\");\n",
        "    }\n",
        "    //printf(\"----------------------------------------------------------------------------------\\n\");\n",
        "  \n",
        "    // Free memory\n",
        "    free(a);\n",
        "    free(b);\n",
        "    free(c);\n",
        "    cudaFree(dev_a);\n",
        "    cudaFree(dev_b);\n",
        "    cudaFree(dev_c);\n",
        "\n",
        "    printf(\"\\n \");\n",
        "   printf(\"CPU Time: %f \\n\", timeTakenCPU);\n",
        "   printf(\"GPU Time: %f \\n\", timeTakenGPU);\n",
        "   printf(\"Speed Up: %f \\n\", timeTakenCPU/timeTakenGPU);\n",
        "\n",
        "    return 0;\n",
        "}"
      ]
    },
    {
      "cell_type": "code",
      "execution_count": null,
      "metadata": {
        "id": "rLomNwy0hyyu"
      },
      "outputs": [],
      "source": []
    },
    {
      "cell_type": "code",
      "execution_count": null,
      "metadata": {
        "id": "epgixzCNhy2v"
      },
      "outputs": [],
      "source": []
    },
    {
      "cell_type": "code",
      "execution_count": null,
      "metadata": {
        "id": "lJrjQE_Ghy4w"
      },
      "outputs": [],
      "source": []
    },
    {
      "cell_type": "code",
      "execution_count": null,
      "metadata": {
        "id": "NpFBdFSfhy8k"
      },
      "outputs": [],
      "source": []
    }
  ],
  "metadata": {
    "accelerator": "GPU",
    "colab": {
      "provenance": []
    },
    "gpuClass": "standard",
    "kernelspec": {
      "display_name": "Python 3",
      "name": "python3"
    },
    "language_info": {
      "name": "python"
    }
  },
  "nbformat": 4,
  "nbformat_minor": 0
}
