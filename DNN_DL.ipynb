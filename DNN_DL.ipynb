{
  "nbformat": 4,
  "nbformat_minor": 0,
  "metadata": {
    "colab": {
      "provenance": []
    },
    "kernelspec": {
      "name": "python3",
      "display_name": "Python 3"
    },
    "language_info": {
      "name": "python"
    }
  },
  "cells": [
    {
      "cell_type": "code",
      "execution_count": 1,
      "metadata": {
        "id": "uORZIVc4djUD"
      },
      "outputs": [],
      "source": [
        "import tensorflow as tf\n",
        "from tensorflow import keras\n",
        "import numpy as np"
      ]
    },
    {
      "cell_type": "code",
      "source": [
        "imdb = keras.datasets.imdb\n",
        "(train_data, train_labels), (test_data, test_labels) = imdb.load_data(num_words=10000)"
      ],
      "metadata": {
        "colab": {
          "base_uri": "https://localhost:8080/"
        },
        "id": "L4Pyq_EjdoFs",
        "outputId": "2229b1ae-d1b9-42e0-b05c-da79d6189f89"
      },
      "execution_count": 2,
      "outputs": [
        {
          "output_type": "stream",
          "name": "stdout",
          "text": [
            "Downloading data from https://storage.googleapis.com/tensorflow/tf-keras-datasets/imdb.npz\n",
            "17464789/17464789 [==============================] - 1s 0us/step\n"
          ]
        }
      ]
    },
    {
      "cell_type": "code",
      "source": [
        "word_index = imdb.get_word_index()\n",
        "# The first indices are reserved\n",
        "word_index = {k: (v + 3) for k, v in word_index.items()}\n",
        "word_index[\"<PAD>\"] = 0\n",
        "word_index[\"<START>\"] = 1\n",
        "word_index[\"<UNK>\"] = 2 \n",
        "word_index[\"<UNUSED>\"] = 3"
      ],
      "metadata": {
        "colab": {
          "base_uri": "https://localhost:8080/"
        },
        "id": "9GRzL7Vkdqnb",
        "outputId": "d8d8c7d9-6d15-4034-bda4-9f667b6e6768"
      },
      "execution_count": 3,
      "outputs": [
        {
          "output_type": "stream",
          "name": "stdout",
          "text": [
            "Downloading data from https://storage.googleapis.com/tensorflow/tf-keras-datasets/imdb_word_index.json\n",
            "1641221/1641221 [==============================] - 0s 0us/step\n"
          ]
        }
      ]
    },
    {
      "cell_type": "code",
      "source": [
        "reverse_word_index = dict([(value, key) for (key, value) in word_index.items()])"
      ],
      "metadata": {
        "id": "VVScu96xdst4"
      },
      "execution_count": 4,
      "outputs": []
    },
    {
      "cell_type": "code",
      "source": [
        "def decode_review(text):\n",
        "  return ' '.join([reverse_word_index.get(i, '?') for i in text])"
      ],
      "metadata": {
        "id": "pS4ExpSedsvZ"
      },
      "execution_count": 5,
      "outputs": []
    },
    {
      "cell_type": "code",
      "source": [
        "train_data = keras.preprocessing.sequence.pad_sequences(train_data,value=word_index[\"<PAD>\"], padding='post', maxlen=256)\n",
        "test_data = keras.preprocessing.sequence.pad_sequences(test_data,value=word_index[\"<PAD>\"], padding='post', maxlen=256)"
      ],
      "metadata": {
        "id": "DX8hUcsJdsy_"
      },
      "execution_count": 6,
      "outputs": []
    },
    {
      "cell_type": "code",
      "source": [
        "model = keras.Sequential([\n",
        "keras.layers.Embedding(10000, 16),\n",
        "keras.layers.GlobalAveragePooling1D(),\n",
        "keras.layers.Dense(16, activation=tf.nn.relu),\n",
        "keras.layers.Dense(1, activation=tf.nn.sigmoid)\n",
        "])\n"
      ],
      "metadata": {
        "id": "z52vvv3Vd8jO"
      },
      "execution_count": 7,
      "outputs": []
    },
    {
      "cell_type": "code",
      "source": [
        "model.compile(optimizer='adam', loss='binary_crossentropy',metrics=['accuracy'])"
      ],
      "metadata": {
        "id": "cICO3hfmeFZ9"
      },
      "execution_count": 8,
      "outputs": []
    },
    {
      "cell_type": "code",
      "source": [
        "history = model.fit(train_data, train_labels, epochs=30, batch_size=512,validation_split=0.2)"
      ],
      "metadata": {
        "colab": {
          "base_uri": "https://localhost:8080/"
        },
        "id": "DtfOghvOeHp3",
        "outputId": "2549846a-4a35-4179-9c9c-2cda99aa7f4c"
      },
      "execution_count": 9,
      "outputs": [
        {
          "output_type": "stream",
          "name": "stdout",
          "text": [
            "Epoch 1/30\n",
            "40/40 [==============================] - 3s 35ms/step - loss: 0.6916 - accuracy: 0.6128 - val_loss: 0.6884 - val_accuracy: 0.7166\n",
            "Epoch 2/30\n",
            "40/40 [==============================] - 1s 23ms/step - loss: 0.6833 - accuracy: 0.7189 - val_loss: 0.6745 - val_accuracy: 0.7556\n",
            "Epoch 3/30\n",
            "40/40 [==============================] - 1s 24ms/step - loss: 0.6618 - accuracy: 0.7623 - val_loss: 0.6439 - val_accuracy: 0.7676\n",
            "Epoch 4/30\n",
            "40/40 [==============================] - 1s 26ms/step - loss: 0.6205 - accuracy: 0.7921 - val_loss: 0.5929 - val_accuracy: 0.7922\n",
            "Epoch 5/30\n",
            "40/40 [==============================] - 1s 33ms/step - loss: 0.5608 - accuracy: 0.8192 - val_loss: 0.5321 - val_accuracy: 0.8124\n",
            "Epoch 6/30\n",
            "40/40 [==============================] - 2s 38ms/step - loss: 0.4948 - accuracy: 0.8401 - val_loss: 0.4747 - val_accuracy: 0.8306\n",
            "Epoch 7/30\n",
            "40/40 [==============================] - 1s 26ms/step - loss: 0.4352 - accuracy: 0.8590 - val_loss: 0.4258 - val_accuracy: 0.8488\n",
            "Epoch 8/30\n",
            "40/40 [==============================] - 1s 23ms/step - loss: 0.3846 - accuracy: 0.8752 - val_loss: 0.3897 - val_accuracy: 0.8568\n",
            "Epoch 9/30\n",
            "40/40 [==============================] - 1s 23ms/step - loss: 0.3461 - accuracy: 0.8844 - val_loss: 0.3627 - val_accuracy: 0.8628\n",
            "Epoch 10/30\n",
            "40/40 [==============================] - 1s 23ms/step - loss: 0.3157 - accuracy: 0.8925 - val_loss: 0.3432 - val_accuracy: 0.8688\n",
            "Epoch 11/30\n",
            "40/40 [==============================] - 1s 23ms/step - loss: 0.2921 - accuracy: 0.8972 - val_loss: 0.3296 - val_accuracy: 0.8728\n",
            "Epoch 12/30\n",
            "40/40 [==============================] - 1s 23ms/step - loss: 0.2724 - accuracy: 0.9042 - val_loss: 0.3175 - val_accuracy: 0.8770\n",
            "Epoch 13/30\n",
            "40/40 [==============================] - 1s 23ms/step - loss: 0.2558 - accuracy: 0.9100 - val_loss: 0.3097 - val_accuracy: 0.8774\n",
            "Epoch 14/30\n",
            "40/40 [==============================] - 1s 23ms/step - loss: 0.2411 - accuracy: 0.9143 - val_loss: 0.3013 - val_accuracy: 0.8812\n",
            "Epoch 15/30\n",
            "40/40 [==============================] - 1s 24ms/step - loss: 0.2281 - accuracy: 0.9191 - val_loss: 0.2966 - val_accuracy: 0.8832\n",
            "Epoch 16/30\n",
            "40/40 [==============================] - 1s 23ms/step - loss: 0.2167 - accuracy: 0.9237 - val_loss: 0.2914 - val_accuracy: 0.8838\n",
            "Epoch 17/30\n",
            "40/40 [==============================] - 1s 25ms/step - loss: 0.2060 - accuracy: 0.9261 - val_loss: 0.2879 - val_accuracy: 0.8862\n",
            "Epoch 18/30\n",
            "40/40 [==============================] - 1s 37ms/step - loss: 0.1968 - accuracy: 0.9304 - val_loss: 0.2859 - val_accuracy: 0.8866\n",
            "Epoch 19/30\n",
            "40/40 [==============================] - 1s 36ms/step - loss: 0.1879 - accuracy: 0.9333 - val_loss: 0.2849 - val_accuracy: 0.8892\n",
            "Epoch 20/30\n",
            "40/40 [==============================] - 1s 22ms/step - loss: 0.1799 - accuracy: 0.9372 - val_loss: 0.2834 - val_accuracy: 0.8870\n",
            "Epoch 21/30\n",
            "40/40 [==============================] - 1s 22ms/step - loss: 0.1724 - accuracy: 0.9401 - val_loss: 0.2825 - val_accuracy: 0.8892\n",
            "Epoch 22/30\n",
            "40/40 [==============================] - 1s 22ms/step - loss: 0.1655 - accuracy: 0.9438 - val_loss: 0.2823 - val_accuracy: 0.8898\n",
            "Epoch 23/30\n",
            "40/40 [==============================] - 1s 22ms/step - loss: 0.1588 - accuracy: 0.9458 - val_loss: 0.2834 - val_accuracy: 0.8908\n",
            "Epoch 24/30\n",
            "40/40 [==============================] - 1s 23ms/step - loss: 0.1527 - accuracy: 0.9478 - val_loss: 0.2836 - val_accuracy: 0.8912\n",
            "Epoch 25/30\n",
            "40/40 [==============================] - 1s 23ms/step - loss: 0.1463 - accuracy: 0.9506 - val_loss: 0.2849 - val_accuracy: 0.8894\n",
            "Epoch 26/30\n",
            "40/40 [==============================] - 1s 23ms/step - loss: 0.1414 - accuracy: 0.9521 - val_loss: 0.2866 - val_accuracy: 0.8902\n",
            "Epoch 27/30\n",
            "40/40 [==============================] - 1s 22ms/step - loss: 0.1358 - accuracy: 0.9548 - val_loss: 0.2882 - val_accuracy: 0.8898\n",
            "Epoch 28/30\n",
            "40/40 [==============================] - 1s 23ms/step - loss: 0.1311 - accuracy: 0.9565 - val_loss: 0.2906 - val_accuracy: 0.8886\n",
            "Epoch 29/30\n",
            "40/40 [==============================] - 1s 24ms/step - loss: 0.1267 - accuracy: 0.9593 - val_loss: 0.2954 - val_accuracy: 0.8878\n",
            "Epoch 30/30\n",
            "40/40 [==============================] - 1s 28ms/step - loss: 0.1216 - accuracy: 0.9612 - val_loss: 0.2966 - val_accuracy: 0.8878\n"
          ]
        }
      ]
    },
    {
      "cell_type": "code",
      "source": [
        "results = model.evaluate(test_data, test_labels)\n",
        "print('Test accuracy:', results[1])"
      ],
      "metadata": {
        "colab": {
          "base_uri": "https://localhost:8080/"
        },
        "id": "N7fc38L4eQFt",
        "outputId": "eb08d769-ba7a-4127-d23f-c3be9ce78ea7"
      },
      "execution_count": 10,
      "outputs": [
        {
          "output_type": "stream",
          "name": "stdout",
          "text": [
            "782/782 [==============================] - 3s 3ms/step - loss: 0.3144 - accuracy: 0.8758\n",
            "Test accuracy: 0.8758000135421753\n"
          ]
        }
      ]
    },
    {
      "cell_type": "code",
      "source": [],
      "metadata": {
        "id": "epXRYVX52qyn"
      },
      "execution_count": 10,
      "outputs": []
    },
    {
      "cell_type": "code",
      "source": [
        "new_reviews = ['The movie was great!',  \"Don't watch boring\",\"The movie was excellent,outstanding,fantastic,magical,once should watch it, great movie\",\"The worst movie ever,one should never go to watch it bad movie,worst horrible\"]\n",
        "new_review_sequences = [np.array([word_index.get(word, 2) for word in review.lower().split()]) for review in new_reviews]\n",
        "new_review_sequences = keras.preprocessing.sequence.pad_sequences(new_review_sequences, value=word_index[\"<PAD>\"],padding='post', maxlen=256)\n",
        "print('Predictions:', model.predict(new_review_sequences).flatten())"
      ],
      "metadata": {
        "colab": {
          "base_uri": "https://localhost:8080/"
        },
        "id": "vHMkKt-FeQ0q",
        "outputId": "767f90cd-3219-493b-b2dc-ae54524da122"
      },
      "execution_count": 11,
      "outputs": [
        {
          "output_type": "stream",
          "name": "stdout",
          "text": [
            "1/1 [==============================] - 0s 112ms/step\n",
            "Predictions: [0.63369805 0.43155566 0.75200784 0.15746865]\n"
          ]
        }
      ]
    }
  ]
}